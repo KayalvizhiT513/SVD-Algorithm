{
  "nbformat": 4,
  "nbformat_minor": 0,
  "metadata": {
    "colab": {
      "provenance": [],
      "authorship_tag": "ABX9TyMk7ghV68Z/PxIfmJBPvOgJ",
      "include_colab_link": true
    },
    "kernelspec": {
      "name": "python3",
      "display_name": "Python 3"
    },
    "language_info": {
      "name": "python"
    }
  },
  "cells": [
    {
      "cell_type": "markdown",
      "metadata": {
        "id": "view-in-github",
        "colab_type": "text"
      },
      "source": [
        "<a href=\"https://colab.research.google.com/github/KayalvizhiT513/SVD-Algorithm/blob/main/SVD_implementation.ipynb\" target=\"_parent\"><img src=\"https://colab.research.google.com/assets/colab-badge.svg\" alt=\"Open In Colab\"/></a>"
      ]
    },
    {
      "cell_type": "code",
      "execution_count": 1,
      "metadata": {
        "id": "JrxKO0xyIDa1"
      },
      "outputs": [],
      "source": [
        "import numpy as np\n",
        "from scipy.linalg import svd"
      ]
    },
    {
      "cell_type": "markdown",
      "source": [
        "##Implementation of SVD"
      ],
      "metadata": {
        "id": "iftd6Ul9IZiA"
      }
    },
    {
      "cell_type": "code",
      "source": [
        "def svd_implemented(A):\n",
        "    # Compute eigenvalues and eigenvectors of A^T * A\n",
        "    eigenvalues, V = np.linalg.eig(np.dot(A.T, A))\n",
        "\n",
        "    # Sort eigenvalues in descending order\n",
        "    descending_order = np.argsort(eigenvalues)[::-1]\n",
        "    eigenvalues = eigenvalues[descending_order]\n",
        "    V = V[:, descending_order]\n",
        "\n",
        "    # Compute singular values\n",
        "    singular_values = np.sqrt(eigenvalues)\n",
        "\n",
        "    # Compute left singular vectors\n",
        "    U = np.dot(A, V) / singular_values\n",
        "\n",
        "    return U, singular_values, V.T\n"
      ],
      "metadata": {
        "id": "oTuGib8vsErE"
      },
      "execution_count": 2,
      "outputs": []
    },
    {
      "cell_type": "code",
      "source": [
        "A = np.array([[1, 1, 1, 0, 0],\n",
        "              [3, 3, 3, 0, 0],\n",
        "              [4, 4, 4, 0, 0],\n",
        "              [5, 5, 5, 0, 0],\n",
        "              [0, 2, 0, 4, 4],\n",
        "              [0, 0, 0, 5, 5],\n",
        "              [0, 1, 0, 2, 2]])\n",
        "U, Sigma, V = svd_implemented(A)\n",
        "U3 = np.real(U[:,:3])\n",
        "S3 = np.diag(np.real(Sigma[:3]))\n",
        "VT3 = V[:3]\n",
        "print(\"U:\\n\", U3)\n",
        "print(\"Sigma:\\n\", S3)\n",
        "print(\"VT:\\n\", VT3)"
      ],
      "metadata": {
        "id": "BCsxxB4avMqN",
        "colab": {
          "base_uri": "https://localhost:8080/"
        },
        "outputId": "44e8c3f1-acbf-4217-e0dd-ece64e217261"
      },
      "execution_count": 15,
      "outputs": [
        {
          "output_type": "stream",
          "name": "stdout",
          "text": [
            "U:\n",
            " [[ 0.13759913  0.02361145 -0.01080847]\n",
            " [ 0.41279738  0.07083435 -0.03242542]\n",
            " [ 0.5503965   0.09444581 -0.04323389]\n",
            " [ 0.68799563  0.11805726 -0.05404236]\n",
            " [ 0.15277509 -0.59110096  0.65365084]\n",
            " [ 0.07221651 -0.73131186 -0.67820922]\n",
            " [ 0.07638754 -0.29555048  0.32682542]]\n",
            "Sigma:\n",
            " [[12.48101469  0.          0.        ]\n",
            " [ 0.          9.50861406  0.        ]\n",
            " [ 0.          0.          1.34555971]]\n",
            "VT:\n",
            " [[ 0.56225841  0.5928599   0.56225841  0.09013354  0.09013354]\n",
            " [ 0.12664138 -0.02877058  0.12664138 -0.69537622 -0.69537622]\n",
            " [-0.40966748  0.80479152 -0.40966748 -0.0912571  -0.0912571 ]]\n"
          ]
        },
        {
          "output_type": "stream",
          "name": "stderr",
          "text": [
            "<ipython-input-2-df51f6ce4e5c>:11: RuntimeWarning: invalid value encountered in sqrt\n",
            "  singular_values = np.sqrt(eigenvalues)\n"
          ]
        }
      ]
    },
    {
      "cell_type": "markdown",
      "source": [
        "###Reverting to Original matrix"
      ],
      "metadata": {
        "id": "K3u_afppI4D_"
      }
    },
    {
      "cell_type": "code",
      "source": [
        "(U3 @ S3) @ VT3"
      ],
      "metadata": {
        "colab": {
          "base_uri": "https://localhost:8080/"
        },
        "id": "hPhXljMCI3h_",
        "outputId": "e6b22ddf-d2b1-4799-963f-1c78c888fcec"
      },
      "execution_count": 16,
      "outputs": [
        {
          "output_type": "execute_result",
          "data": {
            "text/plain": [
              "array([[ 1.00000000e+00,  1.00000000e+00,  1.00000000e+00,\n",
              "         8.65182035e-18,  8.65182035e-18],\n",
              "       [ 3.00000000e+00,  3.00000000e+00,  3.00000000e+00,\n",
              "         6.59140281e-17,  6.59140281e-17],\n",
              "       [ 4.00000000e+00,  4.00000000e+00,  4.00000000e+00,\n",
              "         3.46072814e-17,  3.46072814e-17],\n",
              "       [ 5.00000000e+00,  5.00000000e+00,  5.00000000e+00,\n",
              "        -8.51703625e-17, -8.51703625e-17],\n",
              "       [ 9.60983786e-16,  2.00000000e+00,  3.28945631e-16,\n",
              "         4.00000000e+00,  4.00000000e+00],\n",
              "       [-1.10073737e-15, -9.20809971e-16,  1.75126627e-15,\n",
              "         5.00000000e+00,  5.00000000e+00],\n",
              "       [ 4.80491893e-16,  1.00000000e+00,  1.64472815e-16,\n",
              "         2.00000000e+00,  2.00000000e+00]])"
            ]
          },
          "metadata": {},
          "execution_count": 16
        }
      ]
    },
    {
      "cell_type": "markdown",
      "source": [
        "##Result of build in function"
      ],
      "metadata": {
        "id": "XAkbL7dBIcm-"
      }
    },
    {
      "cell_type": "code",
      "source": [
        "A = np.array([[1, 1, 1, 0, 0],\n",
        "              [3, 3, 3, 0, 0],\n",
        "              [4, 4, 4, 0, 0],\n",
        "              [5, 5, 5, 0, 0],\n",
        "              [0, 2, 0, 4, 4],\n",
        "              [0, 0, 0, 5, 5],\n",
        "              [0, 1, 0, 2, 2]])\n",
        "U, Sigma, VT = svd(A)\n",
        "U3 = np.real(U[:,:3])\n",
        "S3 = np.diag(np.real(Sigma[:3]))\n",
        "VT3 = VT[:3]\n",
        "print(\"U:\\n\", U3)\n",
        "print(\"Sigma:\\n\", S3)\n",
        "print(\"VT:\\n\", VT3)"
      ],
      "metadata": {
        "colab": {
          "base_uri": "https://localhost:8080/"
        },
        "id": "8Bbj5_Rnr808",
        "outputId": "d3eabcaf-88a5-4f3f-a6e2-26eab539efa6"
      },
      "execution_count": 18,
      "outputs": [
        {
          "output_type": "stream",
          "name": "stdout",
          "text": [
            "U:\n",
            " [[-0.13759913 -0.02361145 -0.01080847]\n",
            " [-0.41279738 -0.07083435 -0.03242542]\n",
            " [-0.5503965  -0.09444581 -0.04323389]\n",
            " [-0.68799563 -0.11805726 -0.05404236]\n",
            " [-0.15277509  0.59110096  0.65365084]\n",
            " [-0.07221651  0.73131186 -0.67820922]\n",
            " [-0.07638754  0.29555048  0.32682542]]\n",
            "Sigma:\n",
            " [[12.48101469  0.          0.        ]\n",
            " [ 0.          9.50861406  0.        ]\n",
            " [ 0.          0.          1.34555971]]\n",
            "VT:\n",
            " [[-0.56225841 -0.5928599  -0.56225841 -0.09013354 -0.09013354]\n",
            " [-0.12664138  0.02877058 -0.12664138  0.69537622  0.69537622]\n",
            " [-0.40966748  0.80479152 -0.40966748 -0.0912571  -0.0912571 ]]\n"
          ]
        }
      ]
    },
    {
      "cell_type": "markdown",
      "source": [
        "##Reverting to Original Matrix\n"
      ],
      "metadata": {
        "id": "e8SPqEA0Ih9L"
      }
    },
    {
      "cell_type": "code",
      "source": [
        "(U3 @ S3) @ VT3"
      ],
      "metadata": {
        "id": "5J8TQD6jlqWK",
        "colab": {
          "base_uri": "https://localhost:8080/"
        },
        "outputId": "22c17d30-2793-4552-e7a5-11193090ebed"
      },
      "execution_count": 19,
      "outputs": [
        {
          "output_type": "execute_result",
          "data": {
            "text/plain": [
              "array([[ 1.00000000e+00,  1.00000000e+00,  1.00000000e+00,\n",
              "        -8.49349498e-17, -8.65495965e-17],\n",
              "       [ 3.00000000e+00,  3.00000000e+00,  3.00000000e+00,\n",
              "        -4.34636903e-16, -4.39480843e-16],\n",
              "       [ 4.00000000e+00,  4.00000000e+00,  4.00000000e+00,\n",
              "        -4.34823981e-16, -4.41282568e-16],\n",
              "       [ 5.00000000e+00,  5.00000000e+00,  5.00000000e+00,\n",
              "        -6.46621403e-16, -6.54694636e-16],\n",
              "       [-2.87685848e-16,  2.00000000e+00, -1.51094123e-15,\n",
              "         4.00000000e+00,  4.00000000e+00],\n",
              "       [-6.31227196e-17,  1.16816556e-16, -5.46038205e-16,\n",
              "         5.00000000e+00,  5.00000000e+00],\n",
              "       [-1.43842924e-16,  1.00000000e+00, -7.55470615e-16,\n",
              "         2.00000000e+00,  2.00000000e+00]])"
            ]
          },
          "metadata": {},
          "execution_count": 19
        }
      ]
    },
    {
      "cell_type": "code",
      "source": [],
      "metadata": {
        "id": "kYn9cgO5JQMH"
      },
      "execution_count": null,
      "outputs": []
    }
  ]
}